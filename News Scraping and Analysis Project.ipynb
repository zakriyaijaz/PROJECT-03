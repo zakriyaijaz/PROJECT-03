{
 "cells": [
  {
   "cell_type": "code",
   "execution_count": 5,
   "id": "46fd1848-1eb7-4755-b328-d5b08c5954db",
   "metadata": {},
   "outputs": [],
   "source": [
    "import requests\n",
    "from bs4 import BeautifulSoup as bs\n",
    "import pandas as pd\n",
    "\n",
    "links = []\n",
    "dates = []\n",
    "\n",
    "start_date = pd.Timestamp(2024, 5, 23).date()\n",
    "end_date = pd.Timestamp(2024, 5, 24).date()\n",
    "\n",
    "current_date = start_date\n",
    "while current_date < end_date:\n",
    "\n",
    "    url = f\"https://tribune.com.pk/listing/{current_date.strftime('%Y-%m-%d')}\"\n",
    "\n",
    "    response = requests.get(url)\n",
    "\n",
    "    if response.status_code == 200:\n",
    "\n",
    "        soup = bs(response.text, 'html.parser')\n",
    "\n",
    "        news_elements = soup.find_all(\"div\", class_=\"horiz-news3-caption\")\n",
    "\n",
    "        for news_element in news_elements:\n",
    "            link_element = news_element.find(\"a\", href=True)\n",
    "            if link_element:\n",
    "                link = link_element['href']\n",
    "                \n",
    "                date_element = news_element.find(\"div\", class_=\"morestories-author\").find(\"span\")\n",
    "                date_str = date_element.text.strip().split('|')[1].strip().split(' ')[1:]\n",
    "                date_str = ' '.join(date_str)\n",
    "                date = pd.to_datetime(date_str, format=\"%b %d, %Y\").date()\n",
    "\n",
    "                links.append(link)\n",
    "                dates.append(date)\n",
    "\n",
    "    # Move to the next date\n",
    "    current_date += pd.Timedelta(days=1)\n",
    "\n",
    "\n",
    "df = pd.DataFrame({'links': links, 'dates': dates})\n",
    "\n",
    "with pd.ExcelWriter('final_tribune_links.xlsx') as writer:\n",
    "    df.to_excel(writer, sheet_name='news', index=False)\n"
   ]
  },
  {
   "cell_type": "code",
   "execution_count": 8,
   "id": "c6546a19-e94d-4bdd-8d88-5236b60ac217",
   "metadata": {},
   "outputs": [
    {
     "name": "stdout",
     "output_type": "stream",
     "text": [
      "Extracting articles from https://tribune.com.pk/story/2467959/not-seeking-loans-but-joint-collaboration-says-pm-shehbaz ...\n"
     ]
    }
   ],
   "source": [
    "import requests\n",
    "from bs4 import BeautifulSoup as bs\n",
    "import pandas as pd\n",
    "\n",
    "import pandas as pd\n",
    "\n",
    "#Read the DataFrame containing links\n",
    "news_links = pd.read_excel('C:/Users/azain/final_tribune_links.xlsx')\n",
    "\n",
    "#Convert 'dates' column to datetime and remove the time component\n",
    "news_links['dates'] = pd.to_datetime(news_links['dates']).dt.date\n",
    "\n",
    "#Continue with your existing code...\n",
    "#Function to extract articles from a given URL\n",
    "def extract_paragraphs(url):\n",
    "    response = requests.get(url)\n",
    "    if response.status_code == 200:\n",
    "        soup = bs(response.content, 'html.parser')\n",
    "        articles = soup.find_all('p')\n",
    "        return ' '.join(p.get_text(strip=True) for p in articles)\n",
    "    else:\n",
    "        print(f\"Failed to fetch URL: {url}\")\n",
    "        return None\n",
    "\n",
    "#Create an empty list to store articles\n",
    "all_paragraphs = []\n",
    "\n",
    "#Iterate over each row in the DataFrame and extract articles\n",
    "for index, row in news_links.iterrows():\n",
    "    print(f\"Extracting articles from {row['links']} ...\")\n",
    "    articles = extract_paragraphs(row['links'])\n",
    "    all_paragraphs.append(articles)\n",
    "\n",
    "#Add the articles to the DataFrame\n",
    "news_links['articles'] = all_paragraphs\n",
    "\n",
    "#Write to Excel\n",
    "with pd.ExcelWriter('final_tribune_articles.xlsx') as writer:\n",
    "    news_links.to_excel(writer, index=False)"
   ]
  },
  {
   "cell_type": "code",
   "execution_count": null,
   "id": "cb629430-8fda-4ea4-863f-218d0d2e4128",
   "metadata": {},
   "outputs": [],
   "source": []
  }
 ],
 "metadata": {
  "kernelspec": {
   "display_name": "Python 3 (ipykernel)",
   "language": "python",
   "name": "python3"
  },
  "language_info": {
   "codemirror_mode": {
    "name": "ipython",
    "version": 3
   },
   "file_extension": ".py",
   "mimetype": "text/x-python",
   "name": "python",
   "nbconvert_exporter": "python",
   "pygments_lexer": "ipython3",
   "version": "3.11.7"
  }
 },
 "nbformat": 4,
 "nbformat_minor": 5
}
